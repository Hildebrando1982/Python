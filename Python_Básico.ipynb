{
  "nbformat": 4,
  "nbformat_minor": 0,
  "metadata": {
    "colab": {
      "provenance": [],
      "authorship_tag": "ABX9TyPFd+8Vvvv++CREAQEPKexf",
      "include_colab_link": true
    },
    "kernelspec": {
      "name": "python3",
      "display_name": "Python 3"
    },
    "language_info": {
      "name": "python"
    }
  },
  "cells": [
    {
      "cell_type": "markdown",
      "metadata": {
        "id": "view-in-github",
        "colab_type": "text"
      },
      "source": [
        "<a href=\"https://colab.research.google.com/github/Hildebrando1982/Python/blob/main/Python_B%C3%A1sico.ipynb\" target=\"_parent\"><img src=\"https://colab.research.google.com/assets/colab-badge.svg\" alt=\"Open In Colab\"/></a>"
      ]
    },
    {
      "cell_type": "markdown",
      "source": [
        "**Aula 1 - Explorando Células, a Função `print` e Tipos de Dados**"
      ],
      "metadata": {
        "id": "rl0UJfv2ZDuv"
      }
    },
    {
      "cell_type": "markdown",
      "source": [
        "números: int (inteiros), float (com casas decimais)"
      ],
      "metadata": {
        "id": "mm56-XdGaJAc"
      }
    },
    {
      "cell_type": "code",
      "source": [
        "print(2025)"
      ],
      "metadata": {
        "colab": {
          "base_uri": "https://localhost:8080/"
        },
        "id": "YRoShU1CZUHS",
        "outputId": "c6b85848-d75a-4500-d747-a405dcf5a2c4"
      },
      "execution_count": 2,
      "outputs": [
        {
          "output_type": "stream",
          "name": "stdout",
          "text": [
            "2025\n"
          ]
        }
      ]
    },
    {
      "cell_type": "markdown",
      "source": [
        "Textos ou palavras são strings"
      ],
      "metadata": {
        "id": "y-JVQSTuaCnW"
      }
    },
    {
      "cell_type": "code",
      "source": [
        "print('Olá mundo!')"
      ],
      "metadata": {
        "colab": {
          "base_uri": "https://localhost:8080/"
        },
        "id": "AuHPv7CtZHqW",
        "outputId": "09913cab-e4c2-40af-f37d-40a791e2da12"
      },
      "execution_count": 1,
      "outputs": [
        {
          "output_type": "stream",
          "name": "stdout",
          "text": [
            "Olá mundo!\n"
          ]
        }
      ]
    },
    {
      "cell_type": "code",
      "source": [
        "print(\"Olá mundo!\")"
      ],
      "metadata": {
        "colab": {
          "base_uri": "https://localhost:8080/"
        },
        "outputId": "13bdfa66-8176-472a-e61f-5305f97778a7",
        "id": "Y7JYfIRVZzFg"
      },
      "execution_count": 4,
      "outputs": [
        {
          "output_type": "stream",
          "name": "stdout",
          "text": [
            "Olá mundo!\n"
          ]
        }
      ]
    },
    {
      "cell_type": "code",
      "source": [
        "print(olá mundo!) #erro de sintaxe porque não foi colocado as aspas entre o string"
      ],
      "metadata": {
        "colab": {
          "base_uri": "https://localhost:8080/",
          "height": 106
        },
        "id": "0yn8LO7gZdiC",
        "outputId": "d2442bca-fad2-4f47-9363-c36888831db2"
      },
      "execution_count": 3,
      "outputs": [
        {
          "output_type": "error",
          "ename": "SyntaxError",
          "evalue": "invalid syntax. Perhaps you forgot a comma? (ipython-input-3018930783.py, line 1)",
          "traceback": [
            "\u001b[0;36m  File \u001b[0;32m\"/tmp/ipython-input-3018930783.py\"\u001b[0;36m, line \u001b[0;32m1\u001b[0m\n\u001b[0;31m    print(olá mundo!)\u001b[0m\n\u001b[0m          ^\u001b[0m\n\u001b[0;31mSyntaxError\u001b[0m\u001b[0;31m:\u001b[0m invalid syntax. Perhaps you forgot a comma?\n"
          ]
        }
      ]
    },
    {
      "cell_type": "code",
      "source": [
        "print('Olá mundo!' + 5) #neste caso somente pode concatenar string e não pode int"
      ],
      "metadata": {
        "colab": {
          "base_uri": "https://localhost:8080/",
          "height": 141
        },
        "outputId": "ee2683d2-c313-4f71-d472-c943a06ce57d",
        "id": "3H1OkhPxbBSp"
      },
      "execution_count": 5,
      "outputs": [
        {
          "output_type": "error",
          "ename": "TypeError",
          "evalue": "can only concatenate str (not \"int\") to str",
          "traceback": [
            "\u001b[0;31m---------------------------------------------------------------------------\u001b[0m",
            "\u001b[0;31mTypeError\u001b[0m                                 Traceback (most recent call last)",
            "\u001b[0;32m/tmp/ipython-input-2050412197.py\u001b[0m in \u001b[0;36m<cell line: 0>\u001b[0;34m()\u001b[0m\n\u001b[0;32m----> 1\u001b[0;31m \u001b[0mprint\u001b[0m\u001b[0;34m(\u001b[0m\u001b[0;34m'Olá mundo!'\u001b[0m \u001b[0;34m+\u001b[0m \u001b[0;36m5\u001b[0m\u001b[0;34m)\u001b[0m\u001b[0;34m\u001b[0m\u001b[0;34m\u001b[0m\u001b[0m\n\u001b[0m",
            "\u001b[0;31mTypeError\u001b[0m: can only concatenate str (not \"int\") to str"
          ]
        }
      ]
    },
    {
      "cell_type": "code",
      "source": [
        "print('Olá mundo! ' + '5') #neste caso o 5 não é int e sim string (caractere)"
      ],
      "metadata": {
        "colab": {
          "base_uri": "https://localhost:8080/"
        },
        "outputId": "a5dbfb2f-646a-4c05-8c1f-fa449146ca7a",
        "id": "XOEAZ77fbhNj"
      },
      "execution_count": 7,
      "outputs": [
        {
          "output_type": "stream",
          "name": "stdout",
          "text": [
            "Olá mundo! 5\n"
          ]
        }
      ]
    },
    {
      "cell_type": "markdown",
      "source": [],
      "metadata": {
        "id": "fjD-SyEZi3PI"
      }
    },
    {
      "cell_type": "markdown",
      "source": [
        "**Aula 2 - Variáveis, Operações Matemáticas e Concatenação de Strings**"
      ],
      "metadata": {
        "id": "XaVw3OFkb7uO"
      }
    },
    {
      "cell_type": "code",
      "execution_count": 13,
      "metadata": {
        "colab": {
          "base_uri": "https://localhost:8080/"
        },
        "id": "WJdFe1lmXkB2",
        "outputId": "a5d6b296-a5d2-4ff0-af61-5dd6749086b4"
      },
      "outputs": [
        {
          "output_type": "stream",
          "name": "stdout",
          "text": [
            "7\n"
          ]
        }
      ],
      "source": [
        "print(5+2) #vai exibir o resultado da soma que é 7"
      ]
    },
    {
      "cell_type": "markdown",
      "source": [
        "Variáveis são espaços na memória que tem finalidade de armazenar um determinado valor numerico ou string"
      ],
      "metadata": {
        "id": "nmt5CXjXc8yc"
      }
    },
    {
      "cell_type": "code",
      "source": [
        "produto1 = 5 #Isso é uma variável, foi guardado na memória"
      ],
      "metadata": {
        "id": "ekUDwqW-dNeS"
      },
      "execution_count": 14,
      "outputs": []
    },
    {
      "cell_type": "code",
      "source": [
        "print(produto1) #exibe na tela o resultado"
      ],
      "metadata": {
        "colab": {
          "base_uri": "https://localhost:8080/"
        },
        "id": "h3TbAfmsd6WS",
        "outputId": "398ea347-f4bb-4438-dabe-9d913573d49b"
      },
      "execution_count": 15,
      "outputs": [
        {
          "output_type": "stream",
          "name": "stdout",
          "text": [
            "5\n"
          ]
        }
      ]
    },
    {
      "cell_type": "code",
      "source": [
        "produto2 = 2000"
      ],
      "metadata": {
        "id": "SKkrVFzBeIIo"
      },
      "execution_count": 12,
      "outputs": []
    },
    {
      "cell_type": "code",
      "source": [
        "print(produto2)"
      ],
      "metadata": {
        "colab": {
          "base_uri": "https://localhost:8080/"
        },
        "id": "2M3vxC1EeOoB",
        "outputId": "ea594813-0501-478b-bf66-b2c1800b9e52"
      },
      "execution_count": 16,
      "outputs": [
        {
          "output_type": "stream",
          "name": "stdout",
          "text": [
            "2000\n"
          ]
        }
      ]
    },
    {
      "cell_type": "code",
      "source": [
        "produto3 = 1"
      ],
      "metadata": {
        "id": "d7rehejMeW-m"
      },
      "execution_count": 17,
      "outputs": []
    },
    {
      "cell_type": "code",
      "source": [
        "print(produto1 + produto2 + produto3) #faz a soma e exibe na tela"
      ],
      "metadata": {
        "colab": {
          "base_uri": "https://localhost:8080/"
        },
        "id": "jGyA9eEleZAc",
        "outputId": "8c0f6738-4e6f-4fca-aa88-50bf5715db61"
      },
      "execution_count": 18,
      "outputs": [
        {
          "output_type": "stream",
          "name": "stdout",
          "text": [
            "2006\n"
          ]
        }
      ]
    },
    {
      "cell_type": "code",
      "source": [
        "nome_do_produto1 = 'macarrão'\n",
        "nome_do_produto2 = 'celular'\n",
        "nome_do_produto3 = 'bala'\n",
        "\n",
        "print(nome_do_produto1 + ' ' + nome_do_produto2 + ' ' + nome_do_produto3)\n",
        "#aqui houve uma concatenação"
      ],
      "metadata": {
        "colab": {
          "base_uri": "https://localhost:8080/"
        },
        "id": "G5UXSNoce1wm",
        "outputId": "4c8cf160-69dc-4528-cc05-2bedbb0adcae"
      },
      "execution_count": 19,
      "outputs": [
        {
          "output_type": "stream",
          "name": "stdout",
          "text": [
            "macarrão celular bala\n"
          ]
        }
      ]
    },
    {
      "cell_type": "markdown",
      "source": [
        "**Aula 3 - Operações Matemáticas e Variáveis em Python: (+ - * / %)**"
      ],
      "metadata": {
        "id": "a-Fozb4rfZTD"
      }
    },
    {
      "cell_type": "code",
      "source": [
        "amigos = 5\n",
        "aluguel = 1000\n",
        "supermercado = 500\n",
        "carro = 400\n"
      ],
      "metadata": {
        "id": "xl1EU_dKfDUw"
      },
      "execution_count": 20,
      "outputs": []
    },
    {
      "cell_type": "code",
      "source": [
        "total = aluguel + carro + supermercado"
      ],
      "metadata": {
        "id": "f-3YdAr_f7XS"
      },
      "execution_count": 22,
      "outputs": []
    },
    {
      "cell_type": "code",
      "source": [
        "print(total)"
      ],
      "metadata": {
        "colab": {
          "base_uri": "https://localhost:8080/"
        },
        "id": "CH7427hbgEuE",
        "outputId": "870ee30e-ad8b-4c09-8fa1-6d44ad64c847"
      },
      "execution_count": 24,
      "outputs": [
        {
          "output_type": "stream",
          "name": "stdout",
          "text": [
            "1900\n"
          ]
        }
      ]
    },
    {
      "cell_type": "code",
      "source": [
        "aluguel = aluguel - 100\n",
        "total = aluguel + carro + supermercado\n",
        "\n"
      ],
      "metadata": {
        "id": "39vV4jYBgLtd"
      },
      "execution_count": 32,
      "outputs": []
    },
    {
      "cell_type": "code",
      "source": [
        "print(total)"
      ],
      "metadata": {
        "colab": {
          "base_uri": "https://localhost:8080/"
        },
        "id": "kLag9UBjgPOR",
        "outputId": "3809954a-cdc4-42a8-ee80-b4aaae6b6e3a"
      },
      "execution_count": 33,
      "outputs": [
        {
          "output_type": "stream",
          "name": "stdout",
          "text": [
            "1700\n"
          ]
        }
      ]
    },
    {
      "cell_type": "code",
      "source": [
        "print(aluguel)"
      ],
      "metadata": {
        "colab": {
          "base_uri": "https://localhost:8080/"
        },
        "id": "L3H6Gr9ZgQ0w",
        "outputId": "4380f469-853b-4a1c-9fba-668851d1fa02"
      },
      "execution_count": 34,
      "outputs": [
        {
          "output_type": "stream",
          "name": "stdout",
          "text": [
            "800\n"
          ]
        }
      ]
    },
    {
      "cell_type": "code",
      "source": [],
      "metadata": {
        "id": "hvmW86cPgrCp"
      },
      "execution_count": null,
      "outputs": []
    },
    {
      "cell_type": "code",
      "source": [
        "amigos = 6\n",
        "aluguel = 1000\n",
        "supermercado = 500\n",
        "carro = 400\n",
        "print(aluguel)"
      ],
      "metadata": {
        "colab": {
          "base_uri": "https://localhost:8080/"
        },
        "id": "VSSIIl0hhlmO",
        "outputId": "ba001f56-c2bc-4d98-fdf2-a40cfa9fdbb7"
      },
      "execution_count": 37,
      "outputs": [
        {
          "output_type": "stream",
          "name": "stdout",
          "text": [
            "1000\n"
          ]
        }
      ]
    },
    {
      "cell_type": "code",
      "source": [
        "print(carro * 2)"
      ],
      "metadata": {
        "colab": {
          "base_uri": "https://localhost:8080/"
        },
        "id": "z5gayMI3hsIc",
        "outputId": "32371311-dbf6-4cc3-e59e-6e60f71bff0f"
      },
      "execution_count": 38,
      "outputs": [
        {
          "output_type": "stream",
          "name": "stdout",
          "text": [
            "800\n"
          ]
        }
      ]
    },
    {
      "cell_type": "code",
      "source": [
        "total_de_carros = carro * 2"
      ],
      "metadata": {
        "id": "IMopETcNh7jc"
      },
      "execution_count": 40,
      "outputs": []
    },
    {
      "cell_type": "code",
      "source": [
        "print(total_de_carros)"
      ],
      "metadata": {
        "colab": {
          "base_uri": "https://localhost:8080/"
        },
        "id": "16QE8QGDh_r8",
        "outputId": "4980038b-d1ad-48c8-96e5-4a39e29170aa"
      },
      "execution_count": 41,
      "outputs": [
        {
          "output_type": "stream",
          "name": "stdout",
          "text": [
            "800\n"
          ]
        }
      ]
    },
    {
      "cell_type": "code",
      "source": [
        "total = aluguel + supermercado + total_de_carros\n",
        "print(total)"
      ],
      "metadata": {
        "colab": {
          "base_uri": "https://localhost:8080/"
        },
        "id": "VxrFqwO4iNBO",
        "outputId": "99ce70f6-66be-4b2a-ded9-31f7efd43286"
      },
      "execution_count": 43,
      "outputs": [
        {
          "output_type": "stream",
          "name": "stdout",
          "text": [
            "2300\n"
          ]
        }
      ]
    },
    {
      "cell_type": "code",
      "source": [
        "total_por_pessoa = total / amigos\n",
        "print (total_por_pessoa)"
      ],
      "metadata": {
        "colab": {
          "base_uri": "https://localhost:8080/"
        },
        "id": "4S2kOtBAidKL",
        "outputId": "d8fdbfd8-dfca-4d98-aaa3-1d251af3a953"
      },
      "execution_count": 50,
      "outputs": [
        {
          "output_type": "stream",
          "name": "stdout",
          "text": [
            "383.3333333333333\n"
          ]
        }
      ]
    },
    {
      "cell_type": "markdown",
      "source": [],
      "metadata": {
        "id": "Z4_PDwpCi0Ms"
      }
    },
    {
      "cell_type": "markdown",
      "source": [
        "**Aula 3 - Nomeclatura e Tipos de Dados em Python: `int`, `float`, `str` e `bool`**"
      ],
      "metadata": {
        "id": "5LIfXPipixqN"
      }
    },
    {
      "cell_type": "markdown",
      "source": [
        "Não pode usar variável:\n",
        "\n",
        "**total de amigos** (palavras separada por espaços)\n",
        "\n",
        "**10amigos** (variável que começa com número)\n",
        "\n",
        "**print** (variável com nome de comando)\n"
      ],
      "metadata": {
        "id": "kyZzLQ5-jfgI"
      }
    },
    {
      "cell_type": "code",
      "source": [
        "#para saber o tipo de variável usa-se type()\n",
        "type(aluguel)"
      ],
      "metadata": {
        "colab": {
          "base_uri": "https://localhost:8080/"
        },
        "id": "lU3YQJWljAv7",
        "outputId": "0729366e-5d14-4c02-c0fc-034571af404b"
      },
      "execution_count": 56,
      "outputs": [
        {
          "output_type": "execute_result",
          "data": {
            "text/plain": [
              "int"
            ]
          },
          "metadata": {},
          "execution_count": 56
        }
      ]
    },
    {
      "cell_type": "code",
      "source": [
        "type(produto1)"
      ],
      "metadata": {
        "colab": {
          "base_uri": "https://localhost:8080/"
        },
        "id": "qnFyTxJAlXCm",
        "outputId": "d83fd110-d578-4a65-cfee-457d86d78228"
      },
      "execution_count": 58,
      "outputs": [
        {
          "output_type": "execute_result",
          "data": {
            "text/plain": [
              "int"
            ]
          },
          "metadata": {},
          "execution_count": 58
        }
      ]
    },
    {
      "cell_type": "code",
      "source": [
        "type(True)"
      ],
      "metadata": {
        "colab": {
          "base_uri": "https://localhost:8080/"
        },
        "id": "mlyIboyRlc1-",
        "outputId": "15bca8ca-c466-460a-f312-76de31e7cf63"
      },
      "execution_count": 55,
      "outputs": [
        {
          "output_type": "execute_result",
          "data": {
            "text/plain": [
              "bool"
            ]
          },
          "metadata": {},
          "execution_count": 55
        }
      ]
    },
    {
      "cell_type": "code",
      "source": [
        "type(25.5)"
      ],
      "metadata": {
        "colab": {
          "base_uri": "https://localhost:8080/"
        },
        "id": "eVnKacu8lnlY",
        "outputId": "e2f5293c-b94f-49f9-918a-ab4aa32e42b6"
      },
      "execution_count": 57,
      "outputs": [
        {
          "output_type": "execute_result",
          "data": {
            "text/plain": [
              "float"
            ]
          },
          "metadata": {},
          "execution_count": 57
        }
      ]
    },
    {
      "cell_type": "code",
      "source": [
        "pedro_tem_cnh = True\n",
        "mario_tem_cnh = False"
      ],
      "metadata": {
        "id": "gtzCf7Fglw4b"
      },
      "execution_count": 60,
      "outputs": []
    },
    {
      "cell_type": "code",
      "source": [
        "type(pedro_tem_cnh)"
      ],
      "metadata": {
        "colab": {
          "base_uri": "https://localhost:8080/"
        },
        "id": "k9J304Fkl-6F",
        "outputId": "82b2132e-7c9f-43f4-e283-a01cdef30899"
      },
      "execution_count": 61,
      "outputs": [
        {
          "output_type": "execute_result",
          "data": {
            "text/plain": [
              "bool"
            ]
          },
          "metadata": {},
          "execution_count": 61
        }
      ]
    },
    {
      "cell_type": "code",
      "source": [
        "type(mario_tem_cnh)"
      ],
      "metadata": {
        "colab": {
          "base_uri": "https://localhost:8080/"
        },
        "id": "fa1_QfovmIQ0",
        "outputId": "29545c45-0e96-4662-f882-a727c873ec42"
      },
      "execution_count": 62,
      "outputs": [
        {
          "output_type": "execute_result",
          "data": {
            "text/plain": [
              "bool"
            ]
          },
          "metadata": {},
          "execution_count": 62
        }
      ]
    },
    {
      "cell_type": "markdown",
      "source": [],
      "metadata": {
        "id": "GQiTXTgXmRJr"
      }
    },
    {
      "cell_type": "markdown",
      "source": [
        "**Aula 4- Manipulando Strings em Python: Métodos `lower`, `upper`, `strip` e `replace`**"
      ],
      "metadata": {
        "id": "8g0ClIfXmOiV"
      }
    },
    {
      "cell_type": "markdown",
      "source": [
        "inicial = '    Hildebrando MARques da SIlva FiLHo   '\n",
        "\n",
        "final = 'HILDEBRANDO MARQUES DA SILVA FILHO'"
      ],
      "metadata": {
        "id": "g-kpyQFknJCO"
      }
    },
    {
      "cell_type": "code",
      "source": [
        "inicial = '    Hildebrando  MARques da SIlva FiLHo   '"
      ],
      "metadata": {
        "id": "pBOUBpWWnLRs"
      },
      "execution_count": 85,
      "outputs": []
    },
    {
      "cell_type": "code",
      "source": [
        "print(inicial)"
      ],
      "metadata": {
        "colab": {
          "base_uri": "https://localhost:8080/"
        },
        "id": "8nmig9cHnQgv",
        "outputId": "464a17e9-f277-47fb-9415-b17a2afe0bcf"
      },
      "execution_count": 86,
      "outputs": [
        {
          "output_type": "stream",
          "name": "stdout",
          "text": [
            "    Hildebrando  MARques da SIlva FiLHo   \n"
          ]
        }
      ]
    },
    {
      "cell_type": "code",
      "source": [
        "print(inicial.lower()) #tudo em minúscula"
      ],
      "metadata": {
        "colab": {
          "base_uri": "https://localhost:8080/"
        },
        "id": "7VBLhYqanTt9",
        "outputId": "537328b2-6cb8-4bb5-aee6-c1c4440c87da"
      },
      "execution_count": 88,
      "outputs": [
        {
          "output_type": "stream",
          "name": "stdout",
          "text": [
            "    hildebrando  marques da silva filho   \n"
          ]
        }
      ]
    },
    {
      "cell_type": "code",
      "source": [
        "print(inicial.upper()) #tudo em maiúscula"
      ],
      "metadata": {
        "colab": {
          "base_uri": "https://localhost:8080/"
        },
        "id": "8ol2oNlOnljG",
        "outputId": "36d1dfb2-1482-48af-8d73-3acb7851f27d"
      },
      "execution_count": 89,
      "outputs": [
        {
          "output_type": "stream",
          "name": "stdout",
          "text": [
            "    HILDEBRANDO  MARQUES DA SILVA FILHO   \n"
          ]
        }
      ]
    },
    {
      "cell_type": "code",
      "source": [
        "print(inicial.strip())\n",
        "#retira os espaços extras antes do início e depois do final"
      ],
      "metadata": {
        "colab": {
          "base_uri": "https://localhost:8080/"
        },
        "id": "gAzUyyofnwWB",
        "outputId": "01b8328c-9106-4059-ead4-8b3f597d7a2e"
      },
      "execution_count": 90,
      "outputs": [
        {
          "output_type": "stream",
          "name": "stdout",
          "text": [
            "Hildebrando  MARques da SIlva FiLHo\n"
          ]
        }
      ]
    },
    {
      "cell_type": "code",
      "source": [
        "print(inicial.replace(\"  \", \" \"))\n",
        "#substitui neste caso 2 espaços por um espaço\n",
        "#você pode fazer outras substituições ao seu critério"
      ],
      "metadata": {
        "colab": {
          "base_uri": "https://localhost:8080/"
        },
        "id": "pAzbGH5Gn5yp",
        "outputId": "88f80aaa-6106-444a-d7aa-c39ede1d0b97"
      },
      "execution_count": 91,
      "outputs": [
        {
          "output_type": "stream",
          "name": "stdout",
          "text": [
            "  Hildebrando MARques da SIlva FiLHo  \n"
          ]
        }
      ]
    },
    {
      "cell_type": "code",
      "source": [
        "print(inicial)"
      ],
      "metadata": {
        "colab": {
          "base_uri": "https://localhost:8080/"
        },
        "id": "XWMhqnp8pNfO",
        "outputId": "37984b47-a3e8-467d-bcc6-795d47ad8a8f"
      },
      "execution_count": 92,
      "outputs": [
        {
          "output_type": "stream",
          "name": "stdout",
          "text": [
            "    Hildebrando  MARques da SIlva FiLHo   \n"
          ]
        }
      ]
    },
    {
      "cell_type": "code",
      "source": [
        "print(inicial.strip().upper().replace(\"  \", \" \"))"
      ],
      "metadata": {
        "colab": {
          "base_uri": "https://localhost:8080/"
        },
        "id": "pI__yZB8pbdM",
        "outputId": "d54b1ade-cb37-4978-d96d-6e440312b68a"
      },
      "execution_count": 93,
      "outputs": [
        {
          "output_type": "stream",
          "name": "stdout",
          "text": [
            "HILDEBRANDO MARQUES DA SILVA FILHO\n"
          ]
        }
      ]
    },
    {
      "cell_type": "markdown",
      "source": [
        "Para mudar a variável inicial:"
      ],
      "metadata": {
        "id": "Fc6XinyLpuXo"
      }
    },
    {
      "cell_type": "code",
      "source": [
        "inicial = inicial.strip().upper().replace(\"  \",\" \")\n",
        "print(inicial)"
      ],
      "metadata": {
        "colab": {
          "base_uri": "https://localhost:8080/"
        },
        "id": "J40Sn1jhpy5B",
        "outputId": "5bebdba1-8a3e-408f-97c7-b4bdbf2eba30"
      },
      "execution_count": 94,
      "outputs": [
        {
          "output_type": "stream",
          "name": "stdout",
          "text": [
            "HILDEBRANDO MARQUES DA SILVA FILHO\n"
          ]
        }
      ]
    },
    {
      "cell_type": "markdown",
      "source": [],
      "metadata": {
        "id": "trwLHmm7qT7s"
      }
    },
    {
      "cell_type": "markdown",
      "source": [
        "**Aula 5 - Recebendo Dados do Usuário com `input` e Formatando Textos com fStrings**"
      ],
      "metadata": {
        "id": "BhtvH2__qUfk"
      }
    },
    {
      "cell_type": "code",
      "source": [
        "#entrada de dados\n",
        "#neste caso não, há variável para armazenar o dado\n",
        "input('Digite o seu nome: ')"
      ],
      "metadata": {
        "colab": {
          "base_uri": "https://localhost:8080/",
          "height": 53
        },
        "id": "hKbxopT0qdW7",
        "outputId": "767467b2-c602-426e-ff2e-2e0cbbc1b2c2"
      },
      "execution_count": 95,
      "outputs": [
        {
          "name": "stdout",
          "output_type": "stream",
          "text": [
            "Digite o seu nome: Hildebrando\n"
          ]
        },
        {
          "output_type": "execute_result",
          "data": {
            "text/plain": [
              "'Hildebrando'"
            ],
            "application/vnd.google.colaboratory.intrinsic+json": {
              "type": "string"
            }
          },
          "metadata": {},
          "execution_count": 95
        }
      ]
    },
    {
      "cell_type": "code",
      "source": [
        "#entrada de dados\n",
        "#neste caso, há variável para armazenar o dado\n",
        "nome = input('Digite o seu nome: ')"
      ],
      "metadata": {
        "colab": {
          "base_uri": "https://localhost:8080/"
        },
        "id": "lpTjpSyXq8wq",
        "outputId": "72a82dc2-0ca7-42b5-e031-ea392353e1ec"
      },
      "execution_count": 98,
      "outputs": [
        {
          "name": "stdout",
          "output_type": "stream",
          "text": [
            "Digite o seu nome: Hildebrando\n"
          ]
        }
      ]
    },
    {
      "cell_type": "code",
      "source": [
        "print(nome)"
      ],
      "metadata": {
        "colab": {
          "base_uri": "https://localhost:8080/"
        },
        "id": "OuTAaXferNDs",
        "outputId": "3933075a-1233-4784-9966-400664c3b605"
      },
      "execution_count": 99,
      "outputs": [
        {
          "output_type": "stream",
          "name": "stdout",
          "text": [
            "Hildebrando\n"
          ]
        }
      ]
    },
    {
      "cell_type": "code",
      "source": [
        "idade = input('Digite a sua idade:')"
      ],
      "metadata": {
        "colab": {
          "base_uri": "https://localhost:8080/"
        },
        "id": "-pRjklZ0rVKS",
        "outputId": "07431569-d0b2-4ab7-adcc-4b0bfc50f3ca"
      },
      "execution_count": 106,
      "outputs": [
        {
          "name": "stdout",
          "output_type": "stream",
          "text": [
            "Digite a sua idade:43\n"
          ]
        }
      ]
    },
    {
      "cell_type": "code",
      "source": [
        "print(idade)"
      ],
      "metadata": {
        "colab": {
          "base_uri": "https://localhost:8080/"
        },
        "id": "o8pODavCrblE",
        "outputId": "82689ff8-5d12-4560-a306-272ba0a15e22"
      },
      "execution_count": 107,
      "outputs": [
        {
          "output_type": "stream",
          "name": "stdout",
          "text": [
            "43\n"
          ]
        }
      ]
    },
    {
      "cell_type": "code",
      "source": [
        "type(nome)"
      ],
      "metadata": {
        "colab": {
          "base_uri": "https://localhost:8080/"
        },
        "id": "edRXPisgrxPa",
        "outputId": "5c2c2269-1494-4837-c6c6-c2fa11e45e2a"
      },
      "execution_count": 108,
      "outputs": [
        {
          "output_type": "execute_result",
          "data": {
            "text/plain": [
              "str"
            ]
          },
          "metadata": {},
          "execution_count": 108
        }
      ]
    },
    {
      "cell_type": "code",
      "source": [
        "type(idade)"
      ],
      "metadata": {
        "colab": {
          "base_uri": "https://localhost:8080/"
        },
        "id": "fWDLBMN9rzlg",
        "outputId": "1af31137-f80e-453a-b73f-b1c33683fd3c"
      },
      "execution_count": 109,
      "outputs": [
        {
          "output_type": "execute_result",
          "data": {
            "text/plain": [
              "str"
            ]
          },
          "metadata": {},
          "execution_count": 109
        }
      ]
    },
    {
      "cell_type": "code",
      "source": [
        "idade = int(idade)"
      ],
      "metadata": {
        "id": "wEBaHACksTOd"
      },
      "execution_count": 111,
      "outputs": []
    },
    {
      "cell_type": "code",
      "source": [
        "type(idade)"
      ],
      "metadata": {
        "colab": {
          "base_uri": "https://localhost:8080/"
        },
        "id": "W8jsBZsWsZPr",
        "outputId": "ff249cc6-6459-449e-aba3-b3d2cfa1b37b"
      },
      "execution_count": 112,
      "outputs": [
        {
          "output_type": "execute_result",
          "data": {
            "text/plain": [
              "int"
            ]
          },
          "metadata": {},
          "execution_count": 112
        }
      ]
    },
    {
      "cell_type": "code",
      "source": [
        "#uma forma de concatenar string e int, usa f antes das aspas.\n",
        "#o nome da variável coloca entre chaves\n",
        "#o nome dessa concatenação é f-strings\n",
        "print(f'A pessoa se chama {nome} e tem {idade} anos de idade.')"
      ],
      "metadata": {
        "colab": {
          "base_uri": "https://localhost:8080/"
        },
        "id": "_yTQhWbpskzU",
        "outputId": "959786f4-bd45-465e-d508-bc34b6877812"
      },
      "execution_count": 115,
      "outputs": [
        {
          "output_type": "stream",
          "name": "stdout",
          "text": [
            "A pessoa se chama Hildebrando e tem 43 anos de idade.\n"
          ]
        }
      ]
    },
    {
      "cell_type": "markdown",
      "source": [],
      "metadata": {
        "id": "h30Z9vAKtq30"
      }
    },
    {
      "cell_type": "markdown",
      "source": [
        "**Aula 6 - Condicionais**"
      ],
      "metadata": {
        "id": "YcXcz3jGtrmX"
      }
    },
    {
      "cell_type": "markdown",
      "source": [
        "Se chover, então eu vou sair com guarda-chuva.\n",
        "\n",
        "Se o café estiver amargo, então eu vou colocar açúcar para adoçar.\n",
        "\n",
        "Se o video game custa 5000 e eu não tenho dinheiro, então eu não vou poder comprá-lo."
      ],
      "metadata": {
        "id": "d2olBS9dt9Ri"
      }
    },
    {
      "cell_type": "code",
      "source": [
        "#criar algoritmo para saber se a pessoa tem idade para poder dirigir\n",
        "nome = input('Digite o seu nome: ')\n",
        "idade = int(input('Digite a sua idade: '))\n",
        "print('')\n",
        "if idade >= 18:\n",
        "  #esse espaço do print é chamado de identação\n",
        "  print(f'{nome}, você tem {idade} anos.')\n",
        "  print('Tem idade para dirigir.')\n",
        "else:\n",
        "  print(f'{nome}, você tem {idade} anos.')\n",
        "  print('Você NÃO tem idade para dirigir.')"
      ],
      "metadata": {
        "colab": {
          "base_uri": "https://localhost:8080/"
        },
        "id": "YHQNnL7OuQ_2",
        "outputId": "804bd018-6e87-4aa1-919a-eb566e5cb1a6"
      },
      "execution_count": 126,
      "outputs": [
        {
          "output_type": "stream",
          "name": "stdout",
          "text": [
            "Digite o seu nome: Hildebrando\n",
            "Digite a sua idade: 43\n",
            "\n",
            "Hildebrando, você tem 43 anos.\n",
            "Tem idade para dirigir\n"
          ]
        }
      ]
    },
    {
      "cell_type": "code",
      "source": [
        "'''\n",
        "Crie um algoritmo que armazene 3 notas e calcular a média.\n",
        "Se a média for igual ou maior que 7.0, aprovado.\n",
        "Se a média for menor que 7.0 e maior que 5.0, recuperação.\n",
        "Se a média for menor que 5.0, reprovado.\n",
        "'''\n",
        "nota1 = float(input('Digite a primeira nota: '))\n",
        "nota2 = float(input('Digite a segunda nota: '))\n",
        "nota3 = float(input('Digite a terceira nota: '))\n",
        "\n",
        "media = (nota1 + nota2 + nota3) / 3\n",
        "\n",
        "if media >= 7.0:\n",
        "  print(f'Media: {media:.1f}')\n",
        "  print('Aprovado! =)')\n",
        "elif media > 5.0:\n",
        "  print(f'Media: {media:.1f}')\n",
        "  print('Recuperação! =`(')\n",
        "else:\n",
        "  print(f'Media: {media:.1f}')\n",
        "  print('Reprovado! =`(')"
      ],
      "metadata": {
        "colab": {
          "base_uri": "https://localhost:8080/"
        },
        "id": "G8U3i36Tt0C0",
        "outputId": "f23dd689-b3e4-4811-c65a-0f6c8bd371ab"
      },
      "execution_count": 141,
      "outputs": [
        {
          "output_type": "stream",
          "name": "stdout",
          "text": [
            "Digite a primeira nota: 6\n",
            "Digite a segunda nota: 5\n",
            "Digite a terceira nota: 4\n",
            "Media: 5.0\n",
            "Reprovado =`(\n"
          ]
        }
      ]
    }
  ]
}